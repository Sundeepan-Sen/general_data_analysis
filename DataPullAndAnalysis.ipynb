{
  "nbformat": 4,
  "nbformat_minor": 0,
  "metadata": {
    "colab": {
      "name": "DataPullAndAnalysis",
      "provenance": [],
      "collapsed_sections": [],
      "authorship_tag": "ABX9TyOb6MF1/hz/RG8pTrt+3Obx",
      "include_colab_link": true
    },
    "kernelspec": {
      "name": "python3",
      "display_name": "Python 3"
    },
    "language_info": {
      "name": "python"
    }
  },
  "cells": [
    {
      "cell_type": "markdown",
      "metadata": {
        "id": "view-in-github",
        "colab_type": "text"
      },
      "source": [
        "<a href=\"https://colab.research.google.com/github/Sundeepan-Sen/general_data_analysis/blob/main/DataPullAndAnalysis.ipynb\" target=\"_parent\"><img src=\"https://colab.research.google.com/assets/colab-badge.svg\" alt=\"Open In Colab\"/></a>"
      ]
    },
    {
      "cell_type": "code",
      "metadata": {
        "id": "sczcHDwCWTE6"
      },
      "source": [
        "import os\n",
        "os.environ['KAGGLE_CONFIG_DIR'] = \"/content/Kaggle\""
      ],
      "execution_count": 113,
      "outputs": []
    },
    {
      "cell_type": "code",
      "metadata": {
        "colab": {
          "base_uri": "https://localhost:8080/"
        },
        "id": "ADgnE7ZQW7Y4",
        "outputId": "a90dcf95-b98d-4265-8a61-c6eadd30d889"
      },
      "source": [
        "%cd /content/Kaggle/"
      ],
      "execution_count": 203,
      "outputs": [
        {
          "output_type": "stream",
          "text": [
            "/content/Kaggle\n"
          ],
          "name": "stdout"
        }
      ]
    },
    {
      "cell_type": "code",
      "metadata": {
        "colab": {
          "base_uri": "https://localhost:8080/"
        },
        "id": "aGJhaJbaXOwI",
        "outputId": "77b9a817-8e7a-4c7b-c698-d863a2fe4717"
      },
      "source": [
        "!kaggle datasets download -d sudalairajkumar/cryptocurrencypricehistory"
      ],
      "execution_count": 204,
      "outputs": [
        {
          "output_type": "stream",
          "text": [
            "Downloading cryptocurrencypricehistory.zip to /content/Kaggle\n",
            "\r  0% 0.00/1.58M [00:00<?, ?B/s]\n",
            "\r100% 1.58M/1.58M [00:00<00:00, 51.2MB/s]\n"
          ],
          "name": "stdout"
        }
      ]
    },
    {
      "cell_type": "code",
      "metadata": {
        "colab": {
          "base_uri": "https://localhost:8080/"
        },
        "id": "SlCrKwjpXsS-",
        "outputId": "144ee8bd-585b-4f5c-b641-878ef07e2663"
      },
      "source": [
        "!unzip \\*.zip && rm *.zip"
      ],
      "execution_count": 205,
      "outputs": [
        {
          "output_type": "stream",
          "text": [
            "Archive:  cryptocurrencypricehistory.zip\n",
            "  inflating: coin_Aave.csv           \n",
            "  inflating: coin_BinanceCoin.csv    \n",
            "  inflating: coin_Bitcoin.csv        \n",
            "  inflating: coin_Cardano.csv        \n",
            "  inflating: coin_ChainLink.csv      \n",
            "  inflating: coin_Cosmos.csv         \n",
            "  inflating: coin_CryptocomCoin.csv  \n",
            "  inflating: coin_Dogecoin.csv       \n",
            "  inflating: coin_EOS.csv            \n",
            "  inflating: coin_Ethereum.csv       \n",
            "  inflating: coin_Iota.csv           \n",
            "  inflating: coin_Litecoin.csv       \n",
            "  inflating: coin_Monero.csv         \n",
            "  inflating: coin_NEM.csv            \n",
            "  inflating: coin_Polkadot.csv       \n",
            "  inflating: coin_Solana.csv         \n",
            "  inflating: coin_Stellar.csv        \n",
            "  inflating: coin_Tether.csv         \n",
            "  inflating: coin_Tron.csv           \n",
            "  inflating: coin_USDCoin.csv        \n",
            "  inflating: coin_Uniswap.csv        \n",
            "  inflating: coin_WrappedBitcoin.csv  \n",
            "  inflating: coin_XRP.csv            \n"
          ],
          "name": "stdout"
        }
      ]
    },
    {
      "cell_type": "code",
      "metadata": {
        "id": "VkenoH9x8EDb"
      },
      "source": [
        "import pandas as pd"
      ],
      "execution_count": 206,
      "outputs": []
    },
    {
      "cell_type": "code",
      "metadata": {
        "id": "-B3zZQio8fjb"
      },
      "source": [
        "df = pd.read_csv(\"/content/Kaggle/coin_Dogecoin.csv\")"
      ],
      "execution_count": 229,
      "outputs": []
    },
    {
      "cell_type": "code",
      "metadata": {
        "colab": {
          "base_uri": "https://localhost:8080/"
        },
        "id": "gAiArK_58kXJ",
        "outputId": "eb05533b-07dd-4410-d074-d3ba224a2f80"
      },
      "source": [
        "len(df)"
      ],
      "execution_count": 230,
      "outputs": [
        {
          "output_type": "execute_result",
          "data": {
            "text/plain": [
              "2631"
            ]
          },
          "metadata": {
            "tags": []
          },
          "execution_count": 230
        }
      ]
    },
    {
      "cell_type": "code",
      "metadata": {
        "colab": {
          "base_uri": "https://localhost:8080/"
        },
        "id": "TgKUdtA782rr",
        "outputId": "dd07521b-537e-489a-e74a-c870590e9f1f"
      },
      "source": [
        "df.shape"
      ],
      "execution_count": 231,
      "outputs": [
        {
          "output_type": "execute_result",
          "data": {
            "text/plain": [
              "(2631, 10)"
            ]
          },
          "metadata": {
            "tags": []
          },
          "execution_count": 231
        }
      ]
    },
    {
      "cell_type": "code",
      "metadata": {
        "colab": {
          "base_uri": "https://localhost:8080/",
          "height": 204
        },
        "id": "HHvZWXJC84UX",
        "outputId": "6fffdfab-ab91-4c56-a04b-4fbc144d198e"
      },
      "source": [
        "df.head()"
      ],
      "execution_count": 232,
      "outputs": [
        {
          "output_type": "execute_result",
          "data": {
            "text/html": [
              "<div>\n",
              "<style scoped>\n",
              "    .dataframe tbody tr th:only-of-type {\n",
              "        vertical-align: middle;\n",
              "    }\n",
              "\n",
              "    .dataframe tbody tr th {\n",
              "        vertical-align: top;\n",
              "    }\n",
              "\n",
              "    .dataframe thead th {\n",
              "        text-align: right;\n",
              "    }\n",
              "</style>\n",
              "<table border=\"1\" class=\"dataframe\">\n",
              "  <thead>\n",
              "    <tr style=\"text-align: right;\">\n",
              "      <th></th>\n",
              "      <th>SNo</th>\n",
              "      <th>Name</th>\n",
              "      <th>Symbol</th>\n",
              "      <th>Date</th>\n",
              "      <th>High</th>\n",
              "      <th>Low</th>\n",
              "      <th>Open</th>\n",
              "      <th>Close</th>\n",
              "      <th>Volume</th>\n",
              "      <th>Marketcap</th>\n",
              "    </tr>\n",
              "  </thead>\n",
              "  <tbody>\n",
              "    <tr>\n",
              "      <th>0</th>\n",
              "      <td>1</td>\n",
              "      <td>Dogecoin</td>\n",
              "      <td>DOGE</td>\n",
              "      <td>2013-12-16 23:59:59</td>\n",
              "      <td>0.000866</td>\n",
              "      <td>0.000150</td>\n",
              "      <td>0.000299</td>\n",
              "      <td>0.000205</td>\n",
              "      <td>0.0</td>\n",
              "      <td>1.509085e+06</td>\n",
              "    </tr>\n",
              "    <tr>\n",
              "      <th>1</th>\n",
              "      <td>2</td>\n",
              "      <td>Dogecoin</td>\n",
              "      <td>DOGE</td>\n",
              "      <td>2013-12-17 23:59:59</td>\n",
              "      <td>0.000289</td>\n",
              "      <td>0.000116</td>\n",
              "      <td>0.000207</td>\n",
              "      <td>0.000269</td>\n",
              "      <td>0.0</td>\n",
              "      <td>2.169688e+06</td>\n",
              "    </tr>\n",
              "    <tr>\n",
              "      <th>2</th>\n",
              "      <td>3</td>\n",
              "      <td>Dogecoin</td>\n",
              "      <td>DOGE</td>\n",
              "      <td>2013-12-18 23:59:59</td>\n",
              "      <td>0.000362</td>\n",
              "      <td>0.000205</td>\n",
              "      <td>0.000267</td>\n",
              "      <td>0.000362</td>\n",
              "      <td>0.0</td>\n",
              "      <td>3.188943e+06</td>\n",
              "    </tr>\n",
              "    <tr>\n",
              "      <th>3</th>\n",
              "      <td>4</td>\n",
              "      <td>Dogecoin</td>\n",
              "      <td>DOGE</td>\n",
              "      <td>2013-12-19 23:59:59</td>\n",
              "      <td>0.001520</td>\n",
              "      <td>0.000328</td>\n",
              "      <td>0.000395</td>\n",
              "      <td>0.001162</td>\n",
              "      <td>0.0</td>\n",
              "      <td>1.115034e+07</td>\n",
              "    </tr>\n",
              "    <tr>\n",
              "      <th>4</th>\n",
              "      <td>5</td>\n",
              "      <td>Dogecoin</td>\n",
              "      <td>DOGE</td>\n",
              "      <td>2013-12-20 23:59:59</td>\n",
              "      <td>0.001143</td>\n",
              "      <td>0.000662</td>\n",
              "      <td>0.001143</td>\n",
              "      <td>0.000704</td>\n",
              "      <td>0.0</td>\n",
              "      <td>7.284337e+06</td>\n",
              "    </tr>\n",
              "  </tbody>\n",
              "</table>\n",
              "</div>"
            ],
            "text/plain": [
              "   SNo      Name Symbol  ...     Close  Volume     Marketcap\n",
              "0    1  Dogecoin   DOGE  ...  0.000205     0.0  1.509085e+06\n",
              "1    2  Dogecoin   DOGE  ...  0.000269     0.0  2.169688e+06\n",
              "2    3  Dogecoin   DOGE  ...  0.000362     0.0  3.188943e+06\n",
              "3    4  Dogecoin   DOGE  ...  0.001162     0.0  1.115034e+07\n",
              "4    5  Dogecoin   DOGE  ...  0.000704     0.0  7.284337e+06\n",
              "\n",
              "[5 rows x 10 columns]"
            ]
          },
          "metadata": {
            "tags": []
          },
          "execution_count": 232
        }
      ]
    },
    {
      "cell_type": "code",
      "metadata": {
        "colab": {
          "base_uri": "https://localhost:8080/",
          "height": 204
        },
        "id": "_Z7sYXVr9AKv",
        "outputId": "6dbe1401-1b8a-4b8f-f423-bb9a59fb1199"
      },
      "source": [
        "df.tail()"
      ],
      "execution_count": 233,
      "outputs": [
        {
          "output_type": "execute_result",
          "data": {
            "text/html": [
              "<div>\n",
              "<style scoped>\n",
              "    .dataframe tbody tr th:only-of-type {\n",
              "        vertical-align: middle;\n",
              "    }\n",
              "\n",
              "    .dataframe tbody tr th {\n",
              "        vertical-align: top;\n",
              "    }\n",
              "\n",
              "    .dataframe thead th {\n",
              "        text-align: right;\n",
              "    }\n",
              "</style>\n",
              "<table border=\"1\" class=\"dataframe\">\n",
              "  <thead>\n",
              "    <tr style=\"text-align: right;\">\n",
              "      <th></th>\n",
              "      <th>SNo</th>\n",
              "      <th>Name</th>\n",
              "      <th>Symbol</th>\n",
              "      <th>Date</th>\n",
              "      <th>High</th>\n",
              "      <th>Low</th>\n",
              "      <th>Open</th>\n",
              "      <th>Close</th>\n",
              "      <th>Volume</th>\n",
              "      <th>Marketcap</th>\n",
              "    </tr>\n",
              "  </thead>\n",
              "  <tbody>\n",
              "    <tr>\n",
              "      <th>2626</th>\n",
              "      <td>2627</td>\n",
              "      <td>Dogecoin</td>\n",
              "      <td>DOGE</td>\n",
              "      <td>2021-02-23 23:59:59</td>\n",
              "      <td>0.053768</td>\n",
              "      <td>0.042410</td>\n",
              "      <td>0.053698</td>\n",
              "      <td>0.047392</td>\n",
              "      <td>2.394345e+09</td>\n",
              "      <td>6.089686e+09</td>\n",
              "    </tr>\n",
              "    <tr>\n",
              "      <th>2627</th>\n",
              "      <td>2628</td>\n",
              "      <td>Dogecoin</td>\n",
              "      <td>DOGE</td>\n",
              "      <td>2021-02-24 23:59:59</td>\n",
              "      <td>0.059873</td>\n",
              "      <td>0.046216</td>\n",
              "      <td>0.047414</td>\n",
              "      <td>0.056555</td>\n",
              "      <td>4.148512e+09</td>\n",
              "      <td>7.267918e+09</td>\n",
              "    </tr>\n",
              "    <tr>\n",
              "      <th>2628</th>\n",
              "      <td>2629</td>\n",
              "      <td>Dogecoin</td>\n",
              "      <td>DOGE</td>\n",
              "      <td>2021-02-25 23:59:59</td>\n",
              "      <td>0.057808</td>\n",
              "      <td>0.049869</td>\n",
              "      <td>0.056615</td>\n",
              "      <td>0.050167</td>\n",
              "      <td>2.356982e+09</td>\n",
              "      <td>6.447665e+09</td>\n",
              "    </tr>\n",
              "    <tr>\n",
              "      <th>2629</th>\n",
              "      <td>2630</td>\n",
              "      <td>Dogecoin</td>\n",
              "      <td>DOGE</td>\n",
              "      <td>2021-02-26 23:59:59</td>\n",
              "      <td>0.052472</td>\n",
              "      <td>0.048708</td>\n",
              "      <td>0.050138</td>\n",
              "      <td>0.050480</td>\n",
              "      <td>1.694323e+09</td>\n",
              "      <td>6.488523e+09</td>\n",
              "    </tr>\n",
              "    <tr>\n",
              "      <th>2630</th>\n",
              "      <td>2631</td>\n",
              "      <td>Dogecoin</td>\n",
              "      <td>DOGE</td>\n",
              "      <td>2021-02-27 23:59:59</td>\n",
              "      <td>0.051920</td>\n",
              "      <td>0.049297</td>\n",
              "      <td>0.050500</td>\n",
              "      <td>0.050083</td>\n",
              "      <td>1.286230e+09</td>\n",
              "      <td>6.438193e+09</td>\n",
              "    </tr>\n",
              "  </tbody>\n",
              "</table>\n",
              "</div>"
            ],
            "text/plain": [
              "       SNo      Name Symbol  ...     Close        Volume     Marketcap\n",
              "2626  2627  Dogecoin   DOGE  ...  0.047392  2.394345e+09  6.089686e+09\n",
              "2627  2628  Dogecoin   DOGE  ...  0.056555  4.148512e+09  7.267918e+09\n",
              "2628  2629  Dogecoin   DOGE  ...  0.050167  2.356982e+09  6.447665e+09\n",
              "2629  2630  Dogecoin   DOGE  ...  0.050480  1.694323e+09  6.488523e+09\n",
              "2630  2631  Dogecoin   DOGE  ...  0.050083  1.286230e+09  6.438193e+09\n",
              "\n",
              "[5 rows x 10 columns]"
            ]
          },
          "metadata": {
            "tags": []
          },
          "execution_count": 233
        }
      ]
    },
    {
      "cell_type": "code",
      "metadata": {
        "colab": {
          "base_uri": "https://localhost:8080/"
        },
        "id": "9rqHCYTZ9N6T",
        "outputId": "1bfbfa1e-cf3e-4211-f014-89f14b471e2c"
      },
      "source": [
        "df.info()"
      ],
      "execution_count": 234,
      "outputs": [
        {
          "output_type": "stream",
          "text": [
            "<class 'pandas.core.frame.DataFrame'>\n",
            "RangeIndex: 2631 entries, 0 to 2630\n",
            "Data columns (total 10 columns):\n",
            " #   Column     Non-Null Count  Dtype  \n",
            "---  ------     --------------  -----  \n",
            " 0   SNo        2631 non-null   int64  \n",
            " 1   Name       2631 non-null   object \n",
            " 2   Symbol     2631 non-null   object \n",
            " 3   Date       2631 non-null   object \n",
            " 4   High       2631 non-null   float64\n",
            " 5   Low        2631 non-null   float64\n",
            " 6   Open       2631 non-null   float64\n",
            " 7   Close      2631 non-null   float64\n",
            " 8   Volume     2631 non-null   float64\n",
            " 9   Marketcap  2631 non-null   float64\n",
            "dtypes: float64(6), int64(1), object(3)\n",
            "memory usage: 205.7+ KB\n"
          ],
          "name": "stdout"
        }
      ]
    },
    {
      "cell_type": "code",
      "metadata": {
        "colab": {
          "base_uri": "https://localhost:8080/",
          "height": 297
        },
        "id": "borZ00nMAC-y",
        "outputId": "d2432230-9f5b-4f93-a82f-7895b3afdbcb"
      },
      "source": [
        "df.describe()"
      ],
      "execution_count": 235,
      "outputs": [
        {
          "output_type": "execute_result",
          "data": {
            "text/html": [
              "<div>\n",
              "<style scoped>\n",
              "    .dataframe tbody tr th:only-of-type {\n",
              "        vertical-align: middle;\n",
              "    }\n",
              "\n",
              "    .dataframe tbody tr th {\n",
              "        vertical-align: top;\n",
              "    }\n",
              "\n",
              "    .dataframe thead th {\n",
              "        text-align: right;\n",
              "    }\n",
              "</style>\n",
              "<table border=\"1\" class=\"dataframe\">\n",
              "  <thead>\n",
              "    <tr style=\"text-align: right;\">\n",
              "      <th></th>\n",
              "      <th>SNo</th>\n",
              "      <th>High</th>\n",
              "      <th>Low</th>\n",
              "      <th>Open</th>\n",
              "      <th>Close</th>\n",
              "      <th>Volume</th>\n",
              "      <th>Marketcap</th>\n",
              "    </tr>\n",
              "  </thead>\n",
              "  <tbody>\n",
              "    <tr>\n",
              "      <th>count</th>\n",
              "      <td>2631.000000</td>\n",
              "      <td>2631.000000</td>\n",
              "      <td>2631.000000</td>\n",
              "      <td>2631.000000</td>\n",
              "      <td>2631.000000</td>\n",
              "      <td>2.631000e+03</td>\n",
              "      <td>2.631000e+03</td>\n",
              "    </tr>\n",
              "    <tr>\n",
              "      <th>mean</th>\n",
              "      <td>1316.000000</td>\n",
              "      <td>0.002566</td>\n",
              "      <td>0.002243</td>\n",
              "      <td>0.002394</td>\n",
              "      <td>0.002410</td>\n",
              "      <td>1.063104e+08</td>\n",
              "      <td>2.874625e+08</td>\n",
              "    </tr>\n",
              "    <tr>\n",
              "      <th>std</th>\n",
              "      <td>759.648603</td>\n",
              "      <td>0.006796</td>\n",
              "      <td>0.005422</td>\n",
              "      <td>0.006064</td>\n",
              "      <td>0.006118</td>\n",
              "      <td>8.458638e+08</td>\n",
              "      <td>7.822927e+08</td>\n",
              "    </tr>\n",
              "    <tr>\n",
              "      <th>min</th>\n",
              "      <td>1.000000</td>\n",
              "      <td>0.000089</td>\n",
              "      <td>0.000085</td>\n",
              "      <td>0.000087</td>\n",
              "      <td>0.000087</td>\n",
              "      <td>0.000000e+00</td>\n",
              "      <td>1.509085e+06</td>\n",
              "    </tr>\n",
              "    <tr>\n",
              "      <th>25%</th>\n",
              "      <td>658.500000</td>\n",
              "      <td>0.000229</td>\n",
              "      <td>0.000220</td>\n",
              "      <td>0.000224</td>\n",
              "      <td>0.000224</td>\n",
              "      <td>2.338655e+05</td>\n",
              "      <td>2.314820e+07</td>\n",
              "    </tr>\n",
              "    <tr>\n",
              "      <th>50%</th>\n",
              "      <td>1316.000000</td>\n",
              "      <td>0.001645</td>\n",
              "      <td>0.001387</td>\n",
              "      <td>0.001523</td>\n",
              "      <td>0.001523</td>\n",
              "      <td>4.485170e+06</td>\n",
              "      <td>1.552847e+08</td>\n",
              "    </tr>\n",
              "    <tr>\n",
              "      <th>75%</th>\n",
              "      <td>1973.500000</td>\n",
              "      <td>0.002810</td>\n",
              "      <td>0.002625</td>\n",
              "      <td>0.002710</td>\n",
              "      <td>0.002714</td>\n",
              "      <td>3.863918e+07</td>\n",
              "      <td>3.298987e+08</td>\n",
              "    </tr>\n",
              "    <tr>\n",
              "      <th>max</th>\n",
              "      <td>2631.000000</td>\n",
              "      <td>0.084945</td>\n",
              "      <td>0.068525</td>\n",
              "      <td>0.078773</td>\n",
              "      <td>0.078825</td>\n",
              "      <td>2.540331e+10</td>\n",
              "      <td>1.011246e+10</td>\n",
              "    </tr>\n",
              "  </tbody>\n",
              "</table>\n",
              "</div>"
            ],
            "text/plain": [
              "               SNo         High  ...        Volume     Marketcap\n",
              "count  2631.000000  2631.000000  ...  2.631000e+03  2.631000e+03\n",
              "mean   1316.000000     0.002566  ...  1.063104e+08  2.874625e+08\n",
              "std     759.648603     0.006796  ...  8.458638e+08  7.822927e+08\n",
              "min       1.000000     0.000089  ...  0.000000e+00  1.509085e+06\n",
              "25%     658.500000     0.000229  ...  2.338655e+05  2.314820e+07\n",
              "50%    1316.000000     0.001645  ...  4.485170e+06  1.552847e+08\n",
              "75%    1973.500000     0.002810  ...  3.863918e+07  3.298987e+08\n",
              "max    2631.000000     0.084945  ...  2.540331e+10  1.011246e+10\n",
              "\n",
              "[8 rows x 7 columns]"
            ]
          },
          "metadata": {
            "tags": []
          },
          "execution_count": 235
        }
      ]
    },
    {
      "cell_type": "code",
      "metadata": {
        "colab": {
          "base_uri": "https://localhost:8080/",
          "height": 419
        },
        "id": "Mb-PpABgHmyP",
        "outputId": "4c386d8e-c990-4018-ce89-6a33d3de1777"
      },
      "source": [
        "df.sort_values(by=['Close'], kind='heapsort')"
      ],
      "execution_count": 236,
      "outputs": [
        {
          "output_type": "execute_result",
          "data": {
            "text/html": [
              "<div>\n",
              "<style scoped>\n",
              "    .dataframe tbody tr th:only-of-type {\n",
              "        vertical-align: middle;\n",
              "    }\n",
              "\n",
              "    .dataframe tbody tr th {\n",
              "        vertical-align: top;\n",
              "    }\n",
              "\n",
              "    .dataframe thead th {\n",
              "        text-align: right;\n",
              "    }\n",
              "</style>\n",
              "<table border=\"1\" class=\"dataframe\">\n",
              "  <thead>\n",
              "    <tr style=\"text-align: right;\">\n",
              "      <th></th>\n",
              "      <th>SNo</th>\n",
              "      <th>Name</th>\n",
              "      <th>Symbol</th>\n",
              "      <th>Date</th>\n",
              "      <th>High</th>\n",
              "      <th>Low</th>\n",
              "      <th>Open</th>\n",
              "      <th>Close</th>\n",
              "      <th>Volume</th>\n",
              "      <th>Marketcap</th>\n",
              "    </tr>\n",
              "  </thead>\n",
              "  <tbody>\n",
              "    <tr>\n",
              "      <th>506</th>\n",
              "      <td>507</td>\n",
              "      <td>Dogecoin</td>\n",
              "      <td>DOGE</td>\n",
              "      <td>2015-05-06 23:59:59</td>\n",
              "      <td>0.000090</td>\n",
              "      <td>0.000087</td>\n",
              "      <td>0.000089</td>\n",
              "      <td>0.000087</td>\n",
              "      <td>4.263100e+04</td>\n",
              "      <td>8.665941e+06</td>\n",
              "    </tr>\n",
              "    <tr>\n",
              "      <th>504</th>\n",
              "      <td>505</td>\n",
              "      <td>Dogecoin</td>\n",
              "      <td>DOGE</td>\n",
              "      <td>2015-05-04 23:59:59</td>\n",
              "      <td>0.000094</td>\n",
              "      <td>0.000089</td>\n",
              "      <td>0.000090</td>\n",
              "      <td>0.000089</td>\n",
              "      <td>6.074560e+04</td>\n",
              "      <td>8.818122e+06</td>\n",
              "    </tr>\n",
              "    <tr>\n",
              "      <th>507</th>\n",
              "      <td>508</td>\n",
              "      <td>Dogecoin</td>\n",
              "      <td>DOGE</td>\n",
              "      <td>2015-05-07 23:59:59</td>\n",
              "      <td>0.000089</td>\n",
              "      <td>0.000085</td>\n",
              "      <td>0.000087</td>\n",
              "      <td>0.000089</td>\n",
              "      <td>3.417920e+04</td>\n",
              "      <td>8.835114e+06</td>\n",
              "    </tr>\n",
              "    <tr>\n",
              "      <th>505</th>\n",
              "      <td>506</td>\n",
              "      <td>Dogecoin</td>\n",
              "      <td>DOGE</td>\n",
              "      <td>2015-05-05 23:59:59</td>\n",
              "      <td>0.000090</td>\n",
              "      <td>0.000088</td>\n",
              "      <td>0.000089</td>\n",
              "      <td>0.000089</td>\n",
              "      <td>6.317170e+04</td>\n",
              "      <td>8.857446e+06</td>\n",
              "    </tr>\n",
              "    <tr>\n",
              "      <th>503</th>\n",
              "      <td>504</td>\n",
              "      <td>Dogecoin</td>\n",
              "      <td>DOGE</td>\n",
              "      <td>2015-05-03 23:59:59</td>\n",
              "      <td>0.000100</td>\n",
              "      <td>0.000090</td>\n",
              "      <td>0.000097</td>\n",
              "      <td>0.000090</td>\n",
              "      <td>1.075800e+05</td>\n",
              "      <td>8.916783e+06</td>\n",
              "    </tr>\n",
              "    <tr>\n",
              "      <th>...</th>\n",
              "      <td>...</td>\n",
              "      <td>...</td>\n",
              "      <td>...</td>\n",
              "      <td>...</td>\n",
              "      <td>...</td>\n",
              "      <td>...</td>\n",
              "      <td>...</td>\n",
              "      <td>...</td>\n",
              "      <td>...</td>\n",
              "      <td>...</td>\n",
              "    </tr>\n",
              "    <tr>\n",
              "      <th>2615</th>\n",
              "      <td>2616</td>\n",
              "      <td>Dogecoin</td>\n",
              "      <td>DOGE</td>\n",
              "      <td>2021-02-12 23:59:59</td>\n",
              "      <td>0.072610</td>\n",
              "      <td>0.061445</td>\n",
              "      <td>0.069650</td>\n",
              "      <td>0.070069</td>\n",
              "      <td>4.190844e+09</td>\n",
              "      <td>8.992978e+09</td>\n",
              "    </tr>\n",
              "    <tr>\n",
              "      <th>2612</th>\n",
              "      <td>2613</td>\n",
              "      <td>Dogecoin</td>\n",
              "      <td>DOGE</td>\n",
              "      <td>2021-02-09 23:59:59</td>\n",
              "      <td>0.083128</td>\n",
              "      <td>0.065621</td>\n",
              "      <td>0.078773</td>\n",
              "      <td>0.070070</td>\n",
              "      <td>7.348841e+09</td>\n",
              "      <td>8.990202e+09</td>\n",
              "    </tr>\n",
              "    <tr>\n",
              "      <th>2613</th>\n",
              "      <td>2614</td>\n",
              "      <td>Dogecoin</td>\n",
              "      <td>DOGE</td>\n",
              "      <td>2021-02-10 23:59:59</td>\n",
              "      <td>0.081091</td>\n",
              "      <td>0.068525</td>\n",
              "      <td>0.070111</td>\n",
              "      <td>0.072896</td>\n",
              "      <td>6.785088e+09</td>\n",
              "      <td>9.353896e+09</td>\n",
              "    </tr>\n",
              "    <tr>\n",
              "      <th>2610</th>\n",
              "      <td>2611</td>\n",
              "      <td>Dogecoin</td>\n",
              "      <td>DOGE</td>\n",
              "      <td>2021-02-07 23:59:59</td>\n",
              "      <td>0.084357</td>\n",
              "      <td>0.054239</td>\n",
              "      <td>0.057502</td>\n",
              "      <td>0.078782</td>\n",
              "      <td>1.426102e+10</td>\n",
              "      <td>1.010579e+10</td>\n",
              "    </tr>\n",
              "    <tr>\n",
              "      <th>2611</th>\n",
              "      <td>2612</td>\n",
              "      <td>Dogecoin</td>\n",
              "      <td>DOGE</td>\n",
              "      <td>2021-02-08 23:59:59</td>\n",
              "      <td>0.084945</td>\n",
              "      <td>0.064702</td>\n",
              "      <td>0.078352</td>\n",
              "      <td>0.078825</td>\n",
              "      <td>1.284438e+10</td>\n",
              "      <td>1.011246e+10</td>\n",
              "    </tr>\n",
              "  </tbody>\n",
              "</table>\n",
              "<p>2631 rows × 10 columns</p>\n",
              "</div>"
            ],
            "text/plain": [
              "       SNo      Name Symbol  ...     Close        Volume     Marketcap\n",
              "506    507  Dogecoin   DOGE  ...  0.000087  4.263100e+04  8.665941e+06\n",
              "504    505  Dogecoin   DOGE  ...  0.000089  6.074560e+04  8.818122e+06\n",
              "507    508  Dogecoin   DOGE  ...  0.000089  3.417920e+04  8.835114e+06\n",
              "505    506  Dogecoin   DOGE  ...  0.000089  6.317170e+04  8.857446e+06\n",
              "503    504  Dogecoin   DOGE  ...  0.000090  1.075800e+05  8.916783e+06\n",
              "...    ...       ...    ...  ...       ...           ...           ...\n",
              "2615  2616  Dogecoin   DOGE  ...  0.070069  4.190844e+09  8.992978e+09\n",
              "2612  2613  Dogecoin   DOGE  ...  0.070070  7.348841e+09  8.990202e+09\n",
              "2613  2614  Dogecoin   DOGE  ...  0.072896  6.785088e+09  9.353896e+09\n",
              "2610  2611  Dogecoin   DOGE  ...  0.078782  1.426102e+10  1.010579e+10\n",
              "2611  2612  Dogecoin   DOGE  ...  0.078825  1.284438e+10  1.011246e+10\n",
              "\n",
              "[2631 rows x 10 columns]"
            ]
          },
          "metadata": {
            "tags": []
          },
          "execution_count": 236
        }
      ]
    },
    {
      "cell_type": "code",
      "metadata": {
        "id": "fXGuK5kyAPOo"
      },
      "source": [
        "import numpy as np"
      ],
      "execution_count": 237,
      "outputs": []
    },
    {
      "cell_type": "code",
      "metadata": {
        "colab": {
          "base_uri": "https://localhost:8080/",
          "height": 297
        },
        "id": "_QFgx2FIAheH",
        "outputId": "846f2596-8204-482d-bc98-ca3d4825c998"
      },
      "source": [
        "df.describe(include=int)"
      ],
      "execution_count": 238,
      "outputs": [
        {
          "output_type": "execute_result",
          "data": {
            "text/html": [
              "<div>\n",
              "<style scoped>\n",
              "    .dataframe tbody tr th:only-of-type {\n",
              "        vertical-align: middle;\n",
              "    }\n",
              "\n",
              "    .dataframe tbody tr th {\n",
              "        vertical-align: top;\n",
              "    }\n",
              "\n",
              "    .dataframe thead th {\n",
              "        text-align: right;\n",
              "    }\n",
              "</style>\n",
              "<table border=\"1\" class=\"dataframe\">\n",
              "  <thead>\n",
              "    <tr style=\"text-align: right;\">\n",
              "      <th></th>\n",
              "      <th>SNo</th>\n",
              "    </tr>\n",
              "  </thead>\n",
              "  <tbody>\n",
              "    <tr>\n",
              "      <th>count</th>\n",
              "      <td>2631.000000</td>\n",
              "    </tr>\n",
              "    <tr>\n",
              "      <th>mean</th>\n",
              "      <td>1316.000000</td>\n",
              "    </tr>\n",
              "    <tr>\n",
              "      <th>std</th>\n",
              "      <td>759.648603</td>\n",
              "    </tr>\n",
              "    <tr>\n",
              "      <th>min</th>\n",
              "      <td>1.000000</td>\n",
              "    </tr>\n",
              "    <tr>\n",
              "      <th>25%</th>\n",
              "      <td>658.500000</td>\n",
              "    </tr>\n",
              "    <tr>\n",
              "      <th>50%</th>\n",
              "      <td>1316.000000</td>\n",
              "    </tr>\n",
              "    <tr>\n",
              "      <th>75%</th>\n",
              "      <td>1973.500000</td>\n",
              "    </tr>\n",
              "    <tr>\n",
              "      <th>max</th>\n",
              "      <td>2631.000000</td>\n",
              "    </tr>\n",
              "  </tbody>\n",
              "</table>\n",
              "</div>"
            ],
            "text/plain": [
              "               SNo\n",
              "count  2631.000000\n",
              "mean   1316.000000\n",
              "std     759.648603\n",
              "min       1.000000\n",
              "25%     658.500000\n",
              "50%    1316.000000\n",
              "75%    1973.500000\n",
              "max    2631.000000"
            ]
          },
          "metadata": {
            "tags": []
          },
          "execution_count": 238
        }
      ]
    },
    {
      "cell_type": "code",
      "metadata": {
        "colab": {
          "base_uri": "https://localhost:8080/",
          "height": 419
        },
        "id": "qqWNO85FAjrP",
        "outputId": "64f24410-3192-4582-db18-8b50eb19011e"
      },
      "source": [
        "df.sort_values(by=['Close'], kind='heapsort', ascending=False)"
      ],
      "execution_count": 239,
      "outputs": [
        {
          "output_type": "execute_result",
          "data": {
            "text/html": [
              "<div>\n",
              "<style scoped>\n",
              "    .dataframe tbody tr th:only-of-type {\n",
              "        vertical-align: middle;\n",
              "    }\n",
              "\n",
              "    .dataframe tbody tr th {\n",
              "        vertical-align: top;\n",
              "    }\n",
              "\n",
              "    .dataframe thead th {\n",
              "        text-align: right;\n",
              "    }\n",
              "</style>\n",
              "<table border=\"1\" class=\"dataframe\">\n",
              "  <thead>\n",
              "    <tr style=\"text-align: right;\">\n",
              "      <th></th>\n",
              "      <th>SNo</th>\n",
              "      <th>Name</th>\n",
              "      <th>Symbol</th>\n",
              "      <th>Date</th>\n",
              "      <th>High</th>\n",
              "      <th>Low</th>\n",
              "      <th>Open</th>\n",
              "      <th>Close</th>\n",
              "      <th>Volume</th>\n",
              "      <th>Marketcap</th>\n",
              "    </tr>\n",
              "  </thead>\n",
              "  <tbody>\n",
              "    <tr>\n",
              "      <th>2611</th>\n",
              "      <td>2612</td>\n",
              "      <td>Dogecoin</td>\n",
              "      <td>DOGE</td>\n",
              "      <td>2021-02-08 23:59:59</td>\n",
              "      <td>0.084945</td>\n",
              "      <td>0.064702</td>\n",
              "      <td>0.078352</td>\n",
              "      <td>0.078825</td>\n",
              "      <td>1.284438e+10</td>\n",
              "      <td>1.011246e+10</td>\n",
              "    </tr>\n",
              "    <tr>\n",
              "      <th>2610</th>\n",
              "      <td>2611</td>\n",
              "      <td>Dogecoin</td>\n",
              "      <td>DOGE</td>\n",
              "      <td>2021-02-07 23:59:59</td>\n",
              "      <td>0.084357</td>\n",
              "      <td>0.054239</td>\n",
              "      <td>0.057502</td>\n",
              "      <td>0.078782</td>\n",
              "      <td>1.426102e+10</td>\n",
              "      <td>1.010579e+10</td>\n",
              "    </tr>\n",
              "    <tr>\n",
              "      <th>2613</th>\n",
              "      <td>2614</td>\n",
              "      <td>Dogecoin</td>\n",
              "      <td>DOGE</td>\n",
              "      <td>2021-02-10 23:59:59</td>\n",
              "      <td>0.081091</td>\n",
              "      <td>0.068525</td>\n",
              "      <td>0.070111</td>\n",
              "      <td>0.072896</td>\n",
              "      <td>6.785088e+09</td>\n",
              "      <td>9.353896e+09</td>\n",
              "    </tr>\n",
              "    <tr>\n",
              "      <th>2612</th>\n",
              "      <td>2613</td>\n",
              "      <td>Dogecoin</td>\n",
              "      <td>DOGE</td>\n",
              "      <td>2021-02-09 23:59:59</td>\n",
              "      <td>0.083128</td>\n",
              "      <td>0.065621</td>\n",
              "      <td>0.078773</td>\n",
              "      <td>0.070070</td>\n",
              "      <td>7.348841e+09</td>\n",
              "      <td>8.990202e+09</td>\n",
              "    </tr>\n",
              "    <tr>\n",
              "      <th>2615</th>\n",
              "      <td>2616</td>\n",
              "      <td>Dogecoin</td>\n",
              "      <td>DOGE</td>\n",
              "      <td>2021-02-12 23:59:59</td>\n",
              "      <td>0.072610</td>\n",
              "      <td>0.061445</td>\n",
              "      <td>0.069650</td>\n",
              "      <td>0.070069</td>\n",
              "      <td>4.190844e+09</td>\n",
              "      <td>8.992978e+09</td>\n",
              "    </tr>\n",
              "    <tr>\n",
              "      <th>...</th>\n",
              "      <td>...</td>\n",
              "      <td>...</td>\n",
              "      <td>...</td>\n",
              "      <td>...</td>\n",
              "      <td>...</td>\n",
              "      <td>...</td>\n",
              "      <td>...</td>\n",
              "      <td>...</td>\n",
              "      <td>...</td>\n",
              "      <td>...</td>\n",
              "    </tr>\n",
              "    <tr>\n",
              "      <th>503</th>\n",
              "      <td>504</td>\n",
              "      <td>Dogecoin</td>\n",
              "      <td>DOGE</td>\n",
              "      <td>2015-05-03 23:59:59</td>\n",
              "      <td>0.000100</td>\n",
              "      <td>0.000090</td>\n",
              "      <td>0.000097</td>\n",
              "      <td>0.000090</td>\n",
              "      <td>1.075800e+05</td>\n",
              "      <td>8.916783e+06</td>\n",
              "    </tr>\n",
              "    <tr>\n",
              "      <th>505</th>\n",
              "      <td>506</td>\n",
              "      <td>Dogecoin</td>\n",
              "      <td>DOGE</td>\n",
              "      <td>2015-05-05 23:59:59</td>\n",
              "      <td>0.000090</td>\n",
              "      <td>0.000088</td>\n",
              "      <td>0.000089</td>\n",
              "      <td>0.000089</td>\n",
              "      <td>6.317170e+04</td>\n",
              "      <td>8.857446e+06</td>\n",
              "    </tr>\n",
              "    <tr>\n",
              "      <th>507</th>\n",
              "      <td>508</td>\n",
              "      <td>Dogecoin</td>\n",
              "      <td>DOGE</td>\n",
              "      <td>2015-05-07 23:59:59</td>\n",
              "      <td>0.000089</td>\n",
              "      <td>0.000085</td>\n",
              "      <td>0.000087</td>\n",
              "      <td>0.000089</td>\n",
              "      <td>3.417920e+04</td>\n",
              "      <td>8.835114e+06</td>\n",
              "    </tr>\n",
              "    <tr>\n",
              "      <th>504</th>\n",
              "      <td>505</td>\n",
              "      <td>Dogecoin</td>\n",
              "      <td>DOGE</td>\n",
              "      <td>2015-05-04 23:59:59</td>\n",
              "      <td>0.000094</td>\n",
              "      <td>0.000089</td>\n",
              "      <td>0.000090</td>\n",
              "      <td>0.000089</td>\n",
              "      <td>6.074560e+04</td>\n",
              "      <td>8.818122e+06</td>\n",
              "    </tr>\n",
              "    <tr>\n",
              "      <th>506</th>\n",
              "      <td>507</td>\n",
              "      <td>Dogecoin</td>\n",
              "      <td>DOGE</td>\n",
              "      <td>2015-05-06 23:59:59</td>\n",
              "      <td>0.000090</td>\n",
              "      <td>0.000087</td>\n",
              "      <td>0.000089</td>\n",
              "      <td>0.000087</td>\n",
              "      <td>4.263100e+04</td>\n",
              "      <td>8.665941e+06</td>\n",
              "    </tr>\n",
              "  </tbody>\n",
              "</table>\n",
              "<p>2631 rows × 10 columns</p>\n",
              "</div>"
            ],
            "text/plain": [
              "       SNo      Name Symbol  ...     Close        Volume     Marketcap\n",
              "2611  2612  Dogecoin   DOGE  ...  0.078825  1.284438e+10  1.011246e+10\n",
              "2610  2611  Dogecoin   DOGE  ...  0.078782  1.426102e+10  1.010579e+10\n",
              "2613  2614  Dogecoin   DOGE  ...  0.072896  6.785088e+09  9.353896e+09\n",
              "2612  2613  Dogecoin   DOGE  ...  0.070070  7.348841e+09  8.990202e+09\n",
              "2615  2616  Dogecoin   DOGE  ...  0.070069  4.190844e+09  8.992978e+09\n",
              "...    ...       ...    ...  ...       ...           ...           ...\n",
              "503    504  Dogecoin   DOGE  ...  0.000090  1.075800e+05  8.916783e+06\n",
              "505    506  Dogecoin   DOGE  ...  0.000089  6.317170e+04  8.857446e+06\n",
              "507    508  Dogecoin   DOGE  ...  0.000089  3.417920e+04  8.835114e+06\n",
              "504    505  Dogecoin   DOGE  ...  0.000089  6.074560e+04  8.818122e+06\n",
              "506    507  Dogecoin   DOGE  ...  0.000087  4.263100e+04  8.665941e+06\n",
              "\n",
              "[2631 rows x 10 columns]"
            ]
          },
          "metadata": {
            "tags": []
          },
          "execution_count": 239
        }
      ]
    },
    {
      "cell_type": "code",
      "metadata": {
        "id": "In_xKtvjCkjE"
      },
      "source": [
        ""
      ],
      "execution_count": 239,
      "outputs": []
    },
    {
      "cell_type": "code",
      "metadata": {
        "colab": {
          "base_uri": "https://localhost:8080/"
        },
        "id": "3xbLAxvuDdiH",
        "outputId": "0f91cf6e-76dd-40ae-9f5c-b8899bd88784"
      },
      "source": [
        "import pandas as pd\n",
        "import numpy as np\n",
        "import matplotlib\n",
        "import matplotlib.pyplot as plt\n",
        "import seaborn as sns\n",
        "import statsmodels.api as sm\n",
        "%matplotlib inline\n",
        "from sklearn.model_selection import train_test_split\n",
        "from sklearn.linear_model import LinearRegression\n",
        "from sklearn.feature_selection import RFE\n",
        "from sklearn.linear_model import RidgeCV, LassoCV, Ridge, Lasso"
      ],
      "execution_count": 87,
      "outputs": [
        {
          "output_type": "stream",
          "text": [
            "/usr/local/lib/python3.7/dist-packages/statsmodels/tools/_testing.py:19: FutureWarning: pandas.util.testing is deprecated. Use the functions in the public API at pandas.testing instead.\n",
            "  import pandas.util.testing as tm\n"
          ],
          "name": "stderr"
        }
      ]
    },
    {
      "cell_type": "code",
      "metadata": {
        "colab": {
          "base_uri": "https://localhost:8080/",
          "height": 51
        },
        "id": "Bn1OxLurErRj",
        "outputId": "e5cb4992-3cc0-42ad-da16-6ccde6c1a918"
      },
      "source": [
        "plt.figure(figsize=(20,100))"
      ],
      "execution_count": 240,
      "outputs": [
        {
          "output_type": "execute_result",
          "data": {
            "text/plain": [
              "<Figure size 1440x7200 with 0 Axes>"
            ]
          },
          "metadata": {
            "tags": []
          },
          "execution_count": 240
        },
        {
          "output_type": "display_data",
          "data": {
            "text/plain": [
              "<Figure size 1440x7200 with 0 Axes>"
            ]
          },
          "metadata": {
            "tags": []
          }
        }
      ]
    },
    {
      "cell_type": "code",
      "metadata": {
        "id": "3hnEA40qQ6L9"
      },
      "source": [
        "cor = df.corr()"
      ],
      "execution_count": 241,
      "outputs": []
    },
    {
      "cell_type": "code",
      "metadata": {
        "colab": {
          "base_uri": "https://localhost:8080/",
          "height": 328
        },
        "id": "8GD6q9ttRAFU",
        "outputId": "98bd33d7-d21b-4e0f-88bf-3b5a630daf42"
      },
      "source": [
        "sns.heatmap(cor, annot=True, cmap=plt.cm.Reds)"
      ],
      "execution_count": 242,
      "outputs": [
        {
          "output_type": "execute_result",
          "data": {
            "text/plain": [
              "<matplotlib.axes._subplots.AxesSubplot at 0x7f88cc6f3050>"
            ]
          },
          "metadata": {
            "tags": []
          },
          "execution_count": 242
        },
        {
          "output_type": "display_data",
          "data": {
            "image/png": "[encoded data removed]",
            "text/plain": [
              "<Figure size 432x288 with 2 Axes>"
            ]
          },
          "metadata": {
            "tags": [],
            "needs_background": "light"
          }
        }
      ]
    },
    {
      "cell_type": "code",
      "metadata": {
        "colab": {
          "base_uri": "https://localhost:8080/"
        },
        "id": "4JdFtSOhRMQR",
        "outputId": "d8f49c27-2f99-49a3-bdf1-08d5f5fb2321"
      },
      "source": [
        "cor_target = abs(cor[\"Close\"])\n",
        "relevant_features = cor_target[cor_target>0.5]\n",
        "relevant_features"
      ],
      "execution_count": 226,
      "outputs": [
        {
          "output_type": "execute_result",
          "data": {
            "text/plain": [
              "SNo          0.703350\n",
              "High         0.999358\n",
              "Low          0.999034\n",
              "Open         0.998288\n",
              "Close        1.000000\n",
              "Volume       0.810448\n",
              "Marketcap    0.999305\n",
              "Name: Close, dtype: float64"
            ]
          },
          "metadata": {
            "tags": []
          },
          "execution_count": 226
        }
      ]
    },
    {
      "cell_type": "code",
      "metadata": {
        "id": "YEwrD2T_RpWX"
      },
      "source": [
        "corr_matrix = df.corr()"
      ],
      "execution_count": 227,
      "outputs": []
    },
    {
      "cell_type": "code",
      "metadata": {
        "colab": {
          "base_uri": "https://localhost:8080/",
          "height": 266
        },
        "id": "4j_iI5vASr6z",
        "outputId": "9c19c287-0c02-474c-93ac-5e2ce799de97"
      },
      "source": [
        "corr_matrix"
      ],
      "execution_count": 228,
      "outputs": [
        {
          "output_type": "execute_result",
          "data": {
            "text/html": [
              "<div>\n",
              "<style scoped>\n",
              "    .dataframe tbody tr th:only-of-type {\n",
              "        vertical-align: middle;\n",
              "    }\n",
              "\n",
              "    .dataframe tbody tr th {\n",
              "        vertical-align: top;\n",
              "    }\n",
              "\n",
              "    .dataframe thead th {\n",
              "        text-align: right;\n",
              "    }\n",
              "</style>\n",
              "<table border=\"1\" class=\"dataframe\">\n",
              "  <thead>\n",
              "    <tr style=\"text-align: right;\">\n",
              "      <th></th>\n",
              "      <th>SNo</th>\n",
              "      <th>High</th>\n",
              "      <th>Low</th>\n",
              "      <th>Open</th>\n",
              "      <th>Close</th>\n",
              "      <th>Volume</th>\n",
              "      <th>Marketcap</th>\n",
              "    </tr>\n",
              "  </thead>\n",
              "  <tbody>\n",
              "    <tr>\n",
              "      <th>SNo</th>\n",
              "      <td>1.000000</td>\n",
              "      <td>0.698823</td>\n",
              "      <td>0.711804</td>\n",
              "      <td>0.704412</td>\n",
              "      <td>0.703350</td>\n",
              "      <td>0.683750</td>\n",
              "      <td>0.700296</td>\n",
              "    </tr>\n",
              "    <tr>\n",
              "      <th>High</th>\n",
              "      <td>0.698823</td>\n",
              "      <td>1.000000</td>\n",
              "      <td>0.998466</td>\n",
              "      <td>0.999172</td>\n",
              "      <td>0.999358</td>\n",
              "      <td>0.811861</td>\n",
              "      <td>0.998529</td>\n",
              "    </tr>\n",
              "    <tr>\n",
              "      <th>Low</th>\n",
              "      <td>0.711804</td>\n",
              "      <td>0.998466</td>\n",
              "      <td>1.000000</td>\n",
              "      <td>0.998568</td>\n",
              "      <td>0.999034</td>\n",
              "      <td>0.808784</td>\n",
              "      <td>0.998439</td>\n",
              "    </tr>\n",
              "    <tr>\n",
              "      <th>Open</th>\n",
              "      <td>0.704412</td>\n",
              "      <td>0.999172</td>\n",
              "      <td>0.998568</td>\n",
              "      <td>1.000000</td>\n",
              "      <td>0.998288</td>\n",
              "      <td>0.811214</td>\n",
              "      <td>0.997531</td>\n",
              "    </tr>\n",
              "    <tr>\n",
              "      <th>Close</th>\n",
              "      <td>0.703350</td>\n",
              "      <td>0.999358</td>\n",
              "      <td>0.999034</td>\n",
              "      <td>0.998288</td>\n",
              "      <td>1.000000</td>\n",
              "      <td>0.810448</td>\n",
              "      <td>0.999305</td>\n",
              "    </tr>\n",
              "    <tr>\n",
              "      <th>Volume</th>\n",
              "      <td>0.683750</td>\n",
              "      <td>0.811861</td>\n",
              "      <td>0.808784</td>\n",
              "      <td>0.811214</td>\n",
              "      <td>0.810448</td>\n",
              "      <td>1.000000</td>\n",
              "      <td>0.818189</td>\n",
              "    </tr>\n",
              "    <tr>\n",
              "      <th>Marketcap</th>\n",
              "      <td>0.700296</td>\n",
              "      <td>0.998529</td>\n",
              "      <td>0.998439</td>\n",
              "      <td>0.997531</td>\n",
              "      <td>0.999305</td>\n",
              "      <td>0.818189</td>\n",
              "      <td>1.000000</td>\n",
              "    </tr>\n",
              "  </tbody>\n",
              "</table>\n",
              "</div>"
            ],
            "text/plain": [
              "                SNo      High       Low  ...     Close    Volume  Marketcap\n",
              "SNo        1.000000  0.698823  0.711804  ...  0.703350  0.683750   0.700296\n",
              "High       0.698823  1.000000  0.998466  ...  0.999358  0.811861   0.998529\n",
              "Low        0.711804  0.998466  1.000000  ...  0.999034  0.808784   0.998439\n",
              "Open       0.704412  0.999172  0.998568  ...  0.998288  0.811214   0.997531\n",
              "Close      0.703350  0.999358  0.999034  ...  1.000000  0.810448   0.999305\n",
              "Volume     0.683750  0.811861  0.808784  ...  0.810448  1.000000   0.818189\n",
              "Marketcap  0.700296  0.998529  0.998439  ...  0.999305  0.818189   1.000000\n",
              "\n",
              "[7 rows x 7 columns]"
            ]
          },
          "metadata": {
            "tags": []
          },
          "execution_count": 228
        }
      ]
    },
    {
      "cell_type": "code",
      "metadata": {
        "id": "ZfyEoZ3yTGio"
      },
      "source": [
        ""
      ],
      "execution_count": null,
      "outputs": []
    }
  ]
}